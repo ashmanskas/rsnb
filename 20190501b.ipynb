{
 "cells": [
  {
   "cell_type": "code",
   "execution_count": 1,
   "metadata": {},
   "outputs": [],
   "source": [
    "%matplotlib inline\n",
    "\n",
    "import os\n",
    "import numpy as np\n",
    "import matplotlib\n",
    "import matplotlib.pyplot as plt\n",
    "import pandas as pd\n",
    "from IPython.display import Markdown as md\n",
    "from collections import namedtuple\n",
    "from dataclasses import dataclass\n",
    "from typing import Any, List\n",
    "import scipy\n",
    "# %connect_info"
   ]
  },
  {
   "cell_type": "code",
   "execution_count": 2,
   "metadata": {},
   "outputs": [
    {
     "data": {
      "text/markdown": [
       "### connect to board"
      ],
      "text/plain": [
       "<IPython.core.display.Markdown object>"
      ]
     },
     "metadata": {},
     "output_type": "display_data"
    },
    {
     "name": "stdout",
     "output_type": "stream",
     "text": [
      "rocstar_init.py starting at Wed May  1 12:29:57 2019\n",
      "connecting to board 47\n",
      "++ check whether board is alive\n",
      "ping -c 1 192.168.1.47\n",
      "192.168.1.47 is alive\n",
      "++ ssh connect\n",
      "ssh root@192.168.1.47\n",
      " uptime  12:29:06 up 47 min,  0 users,  load average: 7.99, 7.97, 7.58 \n",
      "# Check that /mnt/uzed is present\n",
      "/mnt/uzed\n",
      "# Configure Zynq PL\n",
      "cat uzed_rocstar_11.bin >> /dev/xdevcfg\n",
      "# Check Zynq PL bus I/O\n",
      "./rd 0002 && ./rd 0001\n",
      "busio: rd 0002 ==> dead\n",
      "busio: rd 0001 ==> beef\n",
      "# Check that /mnt/uzed is present\n",
      "/mnt/uzed\n",
      "# Configure Spartan6 FPGA\n",
      "./spartan6_config.elf rocstar.bin\n",
      "main program, 2019-02-15 13:10\n",
      "rd 0 -> 1752, rd 1 -> beef, rd 2 -> dead\n",
      "busrd(5) -> 10\n",
      "INIT asserted OK\n",
      "busrd(5) -> 0\n",
      "INIT deasserted OK\n",
      "reading Spartan6 configuration data from rocstar.bin\n",
      "1000000\n",
      "2000000\n",
      "3000000\n",
      "sent 3319844 configuration bytes to Spartan6\n",
      "rd 5 -> 0001\n",
      "# Check Spartan6 bus I/O\n",
      "./v5rd 0013 && ./v5rd 0001\n",
      "busio: a7rd 0013 ==> 6666\n",
      "busio: a7rd 0001 ==> beef\n",
      "# Start weiwei server\n",
      "./server.elf >> /dev/null &\n",
      "-- ssh disconnected\n",
      "connecting to weiwei server\n",
      "connecting to weiwei server on board 192.168.1.47\n",
      "MnemBoard::__init__: boardid=192.168.1.47\n",
      "testing microzed bus read via weiwei server\n",
      "success!\n",
      "++ testing register access to spartan6 FPGA\n",
      "v5rd[addr=0000] ==> 0000\n",
      "v5rd[addr=0001] ==> beef\n",
      "v5rd[addr=0002] ==> 0005\n",
      "v5rd[addr=0008] ==> ffff\n",
      "microzed FPGA version: 2019 0308 1026\n",
      "spartan6 FPGA version: 2019 0311 1749\n",
      "connecting 'testpattern' library to board\n",
      "connecting to board at address 192.168.1.47\n",
      "MnemBoard::__init__: boardid=192.168.1.47\n",
      "do 'soft_reset' from Microzed to Spartan6\n",
      "count_reset_from_uzed=0000\n",
      "count_reset_from_uzed=1000\n",
      "count_reset_from_uzed=0001\n",
      "ending at Wed May  1 12:30:12 2019\n",
      "=-=-=-=-=-=-=-=-=-=-=-=-=-=-=-=-=-=-=-=-=-=-=-=-=-=-=-=-=-=-\n",
      "problem channels: set()\n",
      "problem vals: []\n",
      "Number of times a pattern triggered an error: 0\n",
      "Total number of errors: 0\n",
      "Setting ADCs back to readout mode...\n",
      "before write: 8\n",
      "after write: 0\n",
      "before write: 0\n",
      "after write: 0\n",
      "confirm below\n",
      "Hex: 0.    Decimal: 0.\n",
      "before write: 8\n",
      "after write: 0\n",
      "before write: 0\n",
      "after write: 0\n",
      "confirm below\n",
      "Hex: 0.    Decimal: 0.\n",
      "problem channels: set()\n",
      "problem vals: []\n",
      "Number of times a pattern triggered an error: 0\n",
      "Total number of errors: 0\n",
      "Setting ADCs back to readout mode...\n",
      "before write: 8\n",
      "after write: 0\n",
      "before write: 0\n",
      "after write: 0\n",
      "confirm below\n",
      "Hex: 0.    Decimal: 0.\n",
      "before write: 8\n",
      "after write: 0\n",
      "before write: 0\n",
      "after write: 0\n",
      "confirm below\n",
      "Hex: 0.    Decimal: 0.\n",
      "before write: 8\n",
      "after write: 0\n",
      "before write: 0\n",
      "after write: 0\n",
      "confirm below\n",
      "Hex: 0.    Decimal: 0.\n",
      "before write: 8\n",
      "after write: 0\n",
      "before write: 0\n",
      "after write: 0\n",
      "confirm below\n",
      "Hex: 0.    Decimal: 0.\n",
      "problem channels: set()\n",
      "problem vals: []\n",
      "Number of times a pattern triggered an error: 0\n",
      "Total number of errors: 0\n",
      "Setting ADC back to readout mode...\n",
      "before write: 8\n",
      "after write: 0\n",
      "before write: 0\n",
      "after write: 0\n",
      "confirm below\n",
      "Hex: 0.    Decimal: 0.\n",
      "DAC \n",
      " AD5308-0 \n",
      " Channel-0 \n",
      " Value-48 \n",
      "DAC \n",
      " AD5308-0 \n",
      " Channel-1 \n",
      " Value-53 \n",
      "DAC \n",
      " AD5308-0 \n",
      " Channel-2 \n",
      " Value-48 \n",
      "DAC \n",
      " AD5308-0 \n",
      " Channel-3 \n",
      " Value-59 \n",
      "DAC \n",
      " AD5308-0 \n",
      " Channel-4 \n",
      " Value-51 \n",
      "DAC \n",
      " AD5308-0 \n",
      " Channel-5 \n",
      " Value-53 \n",
      "DAC \n",
      " AD5308-0 \n",
      " Channel-6 \n",
      " Value-51 \n",
      "DAC \n",
      " AD5308-0 \n",
      " Channel-7 \n",
      " Value-51 \n",
      "DAC \n",
      " AD5308-1 \n",
      " Channel-0 \n",
      " Value-51 \n",
      "DAC \n",
      " AD5308-1 \n",
      " Channel-1 \n",
      " Value-55 \n",
      "DAC \n",
      " AD5308-1 \n",
      " Channel-2 \n",
      " Value-54 \n",
      "DAC \n",
      " AD5308-1 \n",
      " Channel-3 \n",
      " Value-46 \n",
      "DAC \n",
      " AD5308-1 \n",
      " Channel-4 \n",
      " Value-55 \n",
      "DAC \n",
      " AD5308-1 \n",
      " Channel-5 \n",
      " Value-49 \n",
      "DAC \n",
      " AD5308-1 \n",
      " Channel-6 \n",
      " Value-53 \n",
      "DAC \n",
      " AD5308-1 \n",
      " Channel-7 \n",
      " Value-55 \n",
      "put DRS4 inputs into calibration mode, sine waves ON\n",
      "s6:0006 = 0000000000110000\n",
      "dynode_data_fifo: nwords=0 q=0000\n",
      "rfsma_fifos_ne=0000 rfsmb_fifos_ne=0000\n",
      "number of times DRS has triggered = 1 (was 0)\n",
      "DRS latest timestamp = 0 (was 0)\n",
      "dynode_data_fifo: nwords=1031 q=0000\n",
      "len(ddfdat) = 1031\n",
      "words left over in fifo? : nw = 0\n",
      "number of read out words : len(ddfdat) = 1031\n",
      " a5a5  0404  0010  00d0  03ff  50ff  0005  0000  03bb  0381  03d9  03b3  0426\n",
      "42405  1028    16   208  1023 20735     5     0   955   897   985   947  1062\n",
      "len(ddfdat)=1031 ddfdat[1]=1028\n",
      "trigger_timestamp = 0000000550ff\n",
      "drs_latest_tstamp = 0000\n"
     ]
    }
   ],
   "source": [
    "display(md(\"### connect to board\"))\n",
    "# board @ Manny is 47; board @ Bill is 45\n",
    "%run rocstar_init 47\n",
    "tp.cal()\n",
    "f.setup_waveform_readout()\n",
    "f.set_calib_mode(calib_mode=True, sine_enable=True)\n",
    "tdat = f.readout_one_trigger()"
   ]
  },
  {
   "cell_type": "code",
   "execution_count": 3,
   "metadata": {},
   "outputs": [
    {
     "data": {
      "text/markdown": [
       "### trigger, read, and display one waveform"
      ],
      "text/plain": [
       "<IPython.core.display.Markdown object>"
      ]
     },
     "metadata": {},
     "output_type": "display_data"
    },
    {
     "name": "stdout",
     "output_type": "stream",
     "text": [
      "put DRS4 inputs into calibration mode, sine waves ON\n",
      "s6:0006 = 0000000000110000\n",
      "tcell=0101100001 ddfdat[3]=100101100001\n",
      "tcell=161 ddfdat[3]=961\n"
     ]
    },
    {
     "data": {
      "image/png": "[encoded data removed]",
      "text/plain": [
       "<Figure size 432x288 with 1 Axes>"
      ]
     },
     "metadata": {
      "needs_background": "light"
     },
     "output_type": "display_data"
    }
   ],
   "source": [
    "display(md(\"### trigger, read, and display one waveform\"))\n",
    "which_drs = 1\n",
    "f.set_calib_mode(calib_mode=True, sine_enable=True)\n",
    "tdat = f.readout_one_trigger(verbose=False, whichdrs=which_drs)\n",
    "plt.plot(tdat.wavedat)\n",
    "plt.axis([None,None,0,4200])\n",
    "print(\"tcell={:010b} ddfdat[3]={:010b}\".format(\n",
    "    tdat.tcell, tdat.ddfdat[3]))\n",
    "print(\"tcell={:03x} ddfdat[3]={:03x}\".format(\n",
    "tdat.tcell, tdat.ddfdat[3]))"
   ]
  },
  {
   "cell_type": "code",
   "execution_count": 4,
   "metadata": {},
   "outputs": [
    {
     "data": {
      "text/markdown": [
       "### trigger, read, and display one waveform"
      ],
      "text/plain": [
       "<IPython.core.display.Markdown object>"
      ]
     },
     "metadata": {},
     "output_type": "display_data"
    },
    {
     "name": "stdout",
     "output_type": "stream",
     "text": [
      "put DRS4 inputs into calibration mode, sine waves OFF\n",
      "s6:0006 = 0000000000000000\n",
      "tcell=0100110000 ddfdat[3]=100100110000\n",
      "tcell=130 ddfdat[3]=930\n"
     ]
    },
    {
     "data": {
      "image/png": "[encoded data removed]",
      "text/plain": [
       "<Figure size 432x288 with 1 Axes>"
      ]
     },
     "metadata": {
      "needs_background": "light"
     },
     "output_type": "display_data"
    }
   ],
   "source": [
    "display(md(\"### trigger, read, and display one waveform\"))\n",
    "f.set_calib_mode(calib_mode=True, sine_enable=False)\n",
    "tdat = f.readout_one_trigger(verbose=False, whichdrs=which_drs)\n",
    "plt.plot(tdat.wavedat)\n",
    "plt.axis([None,None,0,4200])\n",
    "print(\"tcell={:010b} ddfdat[3]={:010b}\".format(\n",
    "    tdat.tcell, tdat.ddfdat[3]))\n",
    "print(\"tcell={:03x} ddfdat[3]={:03x}\".format(\n",
    "tdat.tcell, tdat.ddfdat[3]))"
   ]
  },
  {
   "cell_type": "code",
   "execution_count": 5,
   "metadata": {},
   "outputs": [
    {
     "name": "stdout",
     "output_type": "stream",
     "text": [
      "Wed May  1 12:31:54 2019\n",
      "\n",
      "which_drs=0 ichnl=0\n",
      " i=999 len(events)=999 tcell=19       \n",
      "which_drs=0 ichnl=1\n",
      " i=999 len(events)=999 tcell=675      \n",
      "which_drs=0 ichnl=2\n",
      " i=999 len(events)=999 tcell=706      \n",
      "which_drs=0 ichnl=3\n",
      " i=999 len(events)=999 tcell=478      \n",
      "which_drs=0 ichnl=4\n",
      " i=999 len(events)=999 tcell=127      \n",
      "which_drs=0 ichnl=5\n",
      " i=999 len(events)=999 tcell=565      \n",
      "which_drs=0 ichnl=6\n",
      " i=999 len(events)=999 tcell=183      \n",
      "which_drs=0 ichnl=7\n",
      " i=999 len(events)=999 tcell=408      \n",
      "which_drs=1 ichnl=0\n",
      " i=999 len(events)=999 tcell=185      \n",
      "which_drs=1 ichnl=1\n",
      " i=999 len(events)=999 tcell=161      \n",
      "which_drs=1 ichnl=2\n",
      " i=999 len(events)=999 tcell=1015     \n",
      "which_drs=1 ichnl=3\n",
      " i=999 len(events)=999 tcell=738      \n",
      "which_drs=1 ichnl=4\n",
      " i=999 len(events)=999 tcell=216      \n",
      "which_drs=1 ichnl=5\n",
      " i=999 len(events)=999 tcell=777      \n",
      "which_drs=1 ichnl=6\n",
      " i=999 len(events)=999 tcell=690      \n",
      "which_drs=1 ichnl=7\n",
      " i=999 len(events)=999 tcell=833      \n",
      "\n",
      "Wed May  1 12:38:45 2019\n"
     ]
    }
   ],
   "source": [
    "@dataclass\n",
    "class PedestalRun:\n",
    "    whichdrs: int\n",
    "    ichannel: int\n",
    "    events: List[Any]\n",
    "    peds: Any  # numpy array\n",
    "\n",
    "pedruns = {}\n",
    "\n",
    "print(time.ctime())\n",
    "for which_drs in [0,1]:\n",
    "    for ichnl in range(8):\n",
    "        print(\"\\nwhich_drs={} ichnl={}\".format(which_drs,ichnl))\n",
    "        pr = PedestalRun(whichdrs=which_drs,\n",
    "                         ichannel=ichnl,\n",
    "                         events=None,\n",
    "                         peds=None)\n",
    "        pedruns[(which_drs, ichnl)] = pr\n",
    "        events = []  # list of Event objects\n",
    "        pr.events = events\n",
    "        for i in range(1000):\n",
    "            ev = f.readout_one_trigger(verbose=False, whichdrs=which_drs)\n",
    "            print(\" i={:d} len(events)={:d} tcell={:d}     \".format(\n",
    "                i, len(events), ev.tcell), \n",
    "                end='\\r', flush=True)\n",
    "            events.append(ev)\n",
    "        #\n",
    "        psum = np.zeros(1024)\n",
    "        npsum = np.zeros(1024)\n",
    "        for e in events:\n",
    "            cellid = e.tcell\n",
    "            wd = e.wavedat\n",
    "            wd -= np.mean(wd)  # temporary?!\n",
    "            l = len(wd)\n",
    "            z = np.zeros(1024-l)\n",
    "            o = np.ones(l)\n",
    "            onepad = np.roll(np.hstack((o,z)), cellid)\n",
    "            npsum += onepad\n",
    "            adcpad = np.roll(np.hstack((wd,z)), cellid)\n",
    "            psum += adcpad\n",
    "        for cell in range(1024):\n",
    "            if npsum[cell]>0:\n",
    "                psum[cell] /= npsum[cell]\n",
    "        pr.peds = psum\n",
    "        for e in events:\n",
    "            l = len(e.wavedat)\n",
    "            p = np.roll(psum, -e.tcell)\n",
    "            wps = e.wavedat - p[:l]\n",
    "            e.wps = wps  # \"wave with pedestal subtraction\"\n",
    "print(\"\\n\\n\" + time.ctime())"
   ]
  },
  {
   "cell_type": "code",
   "execution_count": 6,
   "metadata": {},
   "outputs": [
    {
     "name": "stdout",
     "output_type": "stream",
     "text": [
      "drs 0 chnl 0 rms after ped sub (counts): mean 6.04 median 5.23\n",
      "drs 0 chnl 1 rms after ped sub (counts): mean 5.92 median 5.24\n",
      "drs 0 chnl 2 rms after ped sub (counts): mean 5.94 median 5.22\n",
      "drs 0 chnl 3 rms after ped sub (counts): mean 5.97 median 5.24\n",
      "drs 0 chnl 4 rms after ped sub (counts): mean 5.89 median 5.24\n",
      "drs 0 chnl 5 rms after ped sub (counts): mean 5.90 median 5.20\n",
      "drs 0 chnl 6 rms after ped sub (counts): mean 6.00 median 5.26\n",
      "drs 0 chnl 7 rms after ped sub (counts): mean 6.21 median 5.26\n",
      "drs 1 chnl 0 rms after ped sub (counts): mean 6.30 median 5.47\n",
      "drs 1 chnl 1 rms after ped sub (counts): mean 6.45 median 5.55\n",
      "drs 1 chnl 2 rms after ped sub (counts): mean 6.23 median 5.56\n",
      "drs 1 chnl 3 rms after ped sub (counts): mean 6.11 median 5.52\n",
      "drs 1 chnl 4 rms after ped sub (counts): mean 6.42 median 5.51\n",
      "drs 1 chnl 5 rms after ped sub (counts): mean 6.25 median 5.53\n",
      "drs 1 chnl 6 rms after ped sub (counts): mean 6.24 median 5.48\n",
      "drs 1 chnl 7 rms after ped sub (counts): mean 6.35 median 5.47\n"
     ]
    }
   ],
   "source": [
    "for k in sorted(pedruns.keys()):\n",
    "    pr = pedruns[k]\n",
    "    rmslist = [np.std(e.wps) for e in pr.events]\n",
    "    print(\"drs {} chnl {}\".format(pr.whichdrs, pr.ichannel),\n",
    "        \"rms after ped sub (counts): mean {:.2f}\".format(\n",
    "            np.mean(rmslist)),\n",
    "        \"median {:.2f}\".format(\n",
    "            np.median(rmslist)))"
   ]
  },
  {
   "cell_type": "code",
   "execution_count": 7,
   "metadata": {},
   "outputs": [
    {
     "data": {
      "text/markdown": [
       "#### 5 events, pedestal-subtracted"
      ],
      "text/plain": [
       "<IPython.core.display.Markdown object>"
      ]
     },
     "metadata": {},
     "output_type": "display_data"
    },
    {
     "name": "stdout",
     "output_type": "stream",
     "text": [
      "5.501826478269746\n",
      "6.424985878545538\n",
      "6.043176422861243\n",
      "4.966611339421714\n",
      "4.917499614206806\n"
     ]
    },
    {
     "data": {
      "image/png": "[encoded data removed]",
      "text/plain": [
       "<Figure size 432x288 with 5 Axes>"
      ]
     },
     "metadata": {
      "needs_background": "light"
     },
     "output_type": "display_data"
    }
   ],
   "source": [
    "display(md(\"#### 5 events, pedestal-subtracted\"))\n",
    "n = 5; n0 = 10\n",
    "plt.clf()\n",
    "for i in range(n):\n",
    "    plt.subplot(n,1,i+1)\n",
    "    e = pedruns[(1,0)].events[n0+i]\n",
    "    plt.plot(e.wps-np.mean(e.wps))\n",
    "    plt.axis([0,1024,-100,100])\n",
    "    print(np.std(e.wps[5:950]))"
   ]
  },
  {
   "cell_type": "code",
   "execution_count": 8,
   "metadata": {},
   "outputs": [
    {
     "name": "stdout",
     "output_type": "stream",
     "text": [
      "hfnam = rsdata/rocstar_20190501_1239.hdf5\n",
      "1023 1000\n"
     ]
    }
   ],
   "source": [
    "# you can skip this if you don't want to write out the data to disk\n",
    "import h5py\n",
    "hfnam = time.strftime(\"rsdata/rocstar_%Y%m%d_%H%M.hdf5\")\n",
    "print(\"hfnam = {}\".format(hfnam))\n",
    "hf = h5py.File(hfnam, \"w\")\n",
    "hf.attrs[\"datetime\"] = time.strftime(\"%Y%m%d %H%M%%S\")\n",
    "hf.attrs[\"rocstar_ipaddr\"] = f.ipaddr\n",
    "ndrs = 2 ; nchnl = 8 ; ncell = 1024\n",
    "peds = hf.create_dataset(\"peds\", (ndrs,nchnl,ncell), dtype=\"f4\")\n",
    "peds.attrs[\"comment\"] = \"pedestal for (idrs, jchannel, kcell)\"\n",
    "for idrs,jchnl in sorted(pedruns.keys()):\n",
    "    peds[idrs,jchnl,:] = pedruns[(idrs,jchnl)].peds\n",
    "max_wf_len = np.max([len(e.wavedat)\n",
    "                     for e in pedruns[k].events\n",
    "                     for k in pedruns])\n",
    "max_num_events = np.max([len(pedruns[k].events) for k in pedruns])\n",
    "print(max_wf_len, max_num_events)\n",
    "drs_raw = hf.create_dataset(\"drs_raw\", (ndrs,nchnl,max_num_events,max_wf_len), dtype=\"i2\")\n",
    "drs_raw.attrs[\"comment\"] = \\\n",
    "    \"raw DRS4 waveforms for (idrs, jchannel, kevent, lsample)\"\n",
    "drs_pedsub = hf.create_dataset(\"drs_pedsub\", (ndrs,nchnl,max_num_events,max_wf_len), dtype=\"f4\")\n",
    "drs_pedsub.attrs[\"comment\"] = \\\n",
    "    \"pedestal-subtracted DRS4 waveforms for (idrs, jchannel, kevent, lsample)\"\n",
    "tcell = hf.create_dataset(\"tcell\", (ndrs,nchnl,max_num_events), dtype=\"i2\")\n",
    "tcell.attrs[\"comment\"] = \"\"\"\n",
    "DRS trigger cell for (idrs, jchannel, kevent)\n",
    "\n",
    "note that a separate set of events was recorded for each (idrs, jchannel), \n",
    "so the trigger cell number is different for (idrs,1) than for (idrs,2) \n",
    "in this data sample\n",
    "\"\"\"\n",
    "for idrs,jchnl in sorted(pedruns.keys()):\n",
    "    pr = pedruns[(idrs,jchnl)]\n",
    "    for kevent in range(len(pr.events)):\n",
    "        drs_raw[idrs,jchnl,kevent,:] = pr.events[kevent].wavedat\n",
    "        drs_pedsub[idrs,jchnl,kevent,:] = pr.events[kevent].wps\n",
    "        tcell[idrs, jchnl, kevent] = pr.events[kevent].tcell\n",
    "hf.flush()\n",
    "hf.close()\n",
    "del hf"
   ]
  },
  {
   "cell_type": "code",
   "execution_count": 9,
   "metadata": {},
   "outputs": [
    {
     "data": {
      "image/png": "[encoded data removed]",
      "text/plain": [
       "<Figure size 432x288 with 1 Axes>"
      ]
     },
     "metadata": {
      "needs_background": "light"
     },
     "output_type": "display_data"
    }
   ],
   "source": [
    "hf = h5py.File(hfnam, \"r\")\n",
    "wps = hf[\"drs_pedsub\"][:]\n",
    "plt.plot(wps[0,0,10])\n",
    "hf.close()\n",
    "del hf"
   ]
  },
  {
   "cell_type": "code",
   "execution_count": null,
   "metadata": {},
   "outputs": [],
   "source": []
  }
 ],
 "metadata": {
  "kernelspec": {
   "display_name": "Python 3",
   "language": "python",
   "name": "python3"
  },
  "language_info": {
   "codemirror_mode": {
    "name": "ipython",
    "version": 3
   },
   "file_extension": ".py",
   "mimetype": "text/x-python",
   "name": "python",
   "nbconvert_exporter": "python",
   "pygments_lexer": "ipython3",
   "version": "3.7.1"
  }
 },
 "nbformat": 4,
 "nbformat_minor": 2
}
